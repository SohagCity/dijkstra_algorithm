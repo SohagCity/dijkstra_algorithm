{
 "cells": [
  {
   "cell_type": "markdown",
   "metadata": {},
   "source": [
    "# Analysis\n",
    "\n",
    "In the below cell we will look at how how the dijkstra algorithm behaves with the Gamma distribution."
   ]
  },
  {
   "cell_type": "code",
   "execution_count": 16,
   "metadata": {},
   "outputs": [
    {
     "name": "stdout",
     "output_type": "stream",
     "text": [
      "        variance\n",
      "0      13.597078\n",
      "1      58.328435\n",
      "2     123.429825\n",
      "3     226.802601\n",
      "4     344.009379\n",
      "5     595.992759\n",
      "6     736.265715\n",
      "7     868.272002\n",
      "8    1435.412504\n",
      "9    1546.073361\n",
      "10   1716.676433\n",
      "11   2374.761361\n",
      "12   2823.882955\n",
      "13   2782.204330\n",
      "14   3415.767429\n",
      "15   3825.702066\n",
      "16   4211.591366\n",
      "17   5050.860522\n",
      "18   4604.654892\n",
      "19   5798.512495\n",
      "20   7032.545155\n",
      "21   7357.594912\n",
      "22   7924.812781\n",
      "23   9209.932528\n",
      "24   9842.240300\n",
      "25  12382.758875\n",
      "26  10915.736426\n",
      "27  10006.796545\n",
      "28  11103.032480\n",
      "29  11938.614606\n",
      "30  15850.040472\n",
      "31  15736.563127\n",
      "32  11578.601465\n",
      "33  17664.593952\n",
      "34  19051.909324\n",
      "35  23823.678917\n",
      "36  17645.840621\n",
      "37  19134.196369\n",
      "38  20244.004156\n",
      "39  19195.697810\n",
      "40  24281.009902\n",
      "41  20062.385226\n",
      "42  27070.956116\n",
      "43  26920.499244\n",
      "44  33752.043210\n",
      "45  25567.715648\n",
      "46  29996.008659\n",
      "47  28843.089381\n",
      "48  31633.727132\n"
     ]
    },
    {
     "data": {
      "text/plain": [
       "Text(0, 0.5, 'Path length')"
      ]
     },
     "execution_count": 16,
     "metadata": {},
     "output_type": "execute_result"
    },
    {
     "data": {
      "image/png": "[encoded data removed]",
      "text/plain": [
       "<Figure size 432x288 with 1 Axes>"
      ]
     },
     "metadata": {
      "needs_background": "light"
     },
     "output_type": "display_data"
    }
   ],
   "source": [
    "import random\n",
    "from collections import  defaultdict\n",
    "\n",
    "import numpy as np\n",
    "import matplotlib.pyplot as plt\n",
    "import pandas as pd\n",
    "\n",
    "from dijkstra_algorithm.src.path_finder import PathFinder\n",
    "\n",
    "# Run dijkstra over different paramters and collect data\n",
    "distances = defaultdict(list)\n",
    "for x in range(1, 50):\n",
    "    for _ in range(1, 100):\n",
    "        path_finder = PathFinder(4, 4, 0, distribution=random.gammavariate, alpha = 5, beta = x)\n",
    "        distances[x].append(path_finder.dijkstra_path())\n",
    "\n",
    "# Calculate variance\n",
    "var = {}\n",
    "for beta, values in distances.items():\n",
    "    var.update({beta: np.var(values)})\n",
    "\n",
    "# Display results\n",
    "keys = var.keys()\n",
    "values = var.values()\n",
    "\n",
    "print(pd.DataFrame(values, columns=['variance']))\n",
    "\n",
    "plt.bar(keys, values)\n",
    "plt.title('Variance over rate parameter')\n",
    "plt.xlabel('Rate parameter')\n",
    "plt.ylabel('Path length')\n"
   ]
  },
  {
   "cell_type": "code",
   "execution_count": 11,
   "metadata": {},
   "outputs": [
    {
     "name": "stdout",
     "output_type": "stream",
     "text": [
      "     variance\n",
      "0    0.620603\n",
      "1    1.386696\n",
      "2    2.006618\n",
      "3    2.593055\n",
      "4    4.036809\n",
      "5    5.264533\n",
      "6    5.186422\n",
      "7    7.073463\n",
      "8    6.020807\n",
      "9    8.537075\n",
      "10   8.092359\n",
      "11  11.554450\n",
      "12   8.401846\n",
      "13   9.787805\n",
      "14  12.677273\n",
      "15  10.958459\n",
      "16  16.402624\n",
      "17  17.636355\n",
      "18  21.080673\n",
      "19  14.994301\n",
      "20  17.215501\n",
      "21  14.912612\n",
      "22  22.360847\n",
      "23  20.621753\n",
      "24  20.809284\n",
      "25  17.756094\n",
      "26  19.571948\n",
      "27  24.631917\n",
      "28  26.100218\n",
      "29  29.927802\n",
      "30  25.229940\n",
      "31  37.797810\n",
      "32  26.185431\n",
      "33  28.460140\n",
      "34  40.519440\n",
      "35  29.802754\n",
      "36  35.039348\n",
      "37  32.647842\n",
      "38  30.111031\n",
      "39  31.326637\n",
      "40  27.189349\n",
      "41  39.557971\n",
      "42  31.073627\n",
      "43  46.718005\n",
      "44  38.076556\n",
      "45  44.441559\n",
      "46  37.638658\n",
      "47  47.257975\n",
      "48  47.718947\n"
     ]
    },
    {
     "data": {
      "text/plain": [
       "Text(0, 0.5, 'Path length')"
      ]
     },
     "execution_count": 11,
     "metadata": {},
     "output_type": "execute_result"
    },
    {
     "data": {
      "image/png": "[encoded data removed]",
      "text/plain": [
       "<Figure size 432x288 with 1 Axes>"
      ]
     },
     "metadata": {
      "needs_background": "light"
     },
     "output_type": "display_data"
    }
   ],
   "source": [
    "import random\n",
    "from collections import  defaultdict\n",
    "\n",
    "import numpy as np\n",
    "import matplotlib.pyplot as plt\n",
    "import pandas as pd\n",
    "\n",
    "from dijkstra_algorithm.src.path_finder import PathFinder\n",
    "\n",
    "# Run dijkstra over different paramters and collect data\n",
    "distances = defaultdict(list)\n",
    "for x in range(1, 50):\n",
    "    for _ in range(1, 100):\n",
    "        path_finder = PathFinder(4, 4, 0, distribution=random.gammavariate, alpha = x, beta = 0.5)\n",
    "        distances[x].append(path_finder.dijkstra_path())\n",
    "\n",
    "# Calculate variance\n",
    "var = {}\n",
    "for beta, values in distances.items():\n",
    "    var.update({beta: np.var(values)})\n",
    "\n",
    "# Display results\n",
    "keys = var.keys()\n",
    "values = var.values()\n",
    "\n",
    "print(pd.DataFrame(values, columns=['variance']))\n",
    "\n",
    "plt.bar(keys, values)\n",
    "plt.title('Variance over shape')\n",
    "plt.xlabel('Shape')\n",
    "plt.ylabel('Path length')\n"
   ]
  },
  {
   "cell_type": "code",
   "execution_count": 13,
   "metadata": {},
   "outputs": [
    {
     "name": "stdout",
     "output_type": "stream",
     "text": [
      "           mean\n",
      "0     23.318350\n",
      "1     49.263184\n",
      "2     70.952775\n",
      "3     97.328169\n",
      "4    122.400443\n",
      "5    143.012123\n",
      "6    162.442458\n",
      "7    188.437172\n",
      "8    214.412952\n",
      "9    239.655398\n",
      "10   262.887630\n",
      "11   288.287557\n",
      "12   318.907548\n",
      "13   325.929833\n",
      "14   358.646508\n",
      "15   392.356472\n",
      "16   403.782831\n",
      "17   429.927262\n",
      "18   463.404353\n",
      "19   473.796840\n",
      "20   508.621265\n",
      "21   516.381973\n",
      "22   564.423436\n",
      "23   569.952181\n",
      "24   592.707973\n",
      "25   617.100241\n",
      "26   637.224694\n",
      "27   676.844665\n",
      "28   694.065802\n",
      "29   718.619627\n",
      "30   742.736321\n",
      "31   758.679932\n",
      "32   781.414267\n",
      "33   803.686300\n",
      "34   809.885863\n",
      "35   860.470169\n",
      "36   882.786112\n",
      "37   911.243557\n",
      "38   941.061836\n",
      "39   950.367775\n",
      "40   959.622833\n",
      "41   998.270248\n",
      "42  1030.127777\n",
      "43  1047.131165\n",
      "44  1096.639182\n",
      "45  1109.240751\n",
      "46  1147.646191\n",
      "47  1120.878646\n",
      "48  1126.974748\n"
     ]
    },
    {
     "data": {
      "text/plain": [
       "Text(0, 0.5, 'Path length')"
      ]
     },
     "execution_count": 13,
     "metadata": {},
     "output_type": "execute_result"
    },
    {
     "data": {
      "image/png": "[encoded data removed]",
      "text/plain": [
       "<Figure size 432x288 with 1 Axes>"
      ]
     },
     "metadata": {
      "needs_background": "light"
     },
     "output_type": "display_data"
    }
   ],
   "source": [
    "import random\n",
    "from collections import  defaultdict\n",
    "\n",
    "import numpy as np\n",
    "import matplotlib.pyplot as plt\n",
    "import pandas as pd\n",
    "\n",
    "from dijkstra_algorithm.src.path_finder import PathFinder\n",
    "\n",
    "# Run dijkstra over different paramters and collect data\n",
    "distances = defaultdict(list)\n",
    "for x in range(1, 50):\n",
    "    for _ in range(1, 100):\n",
    "        path_finder = PathFinder(4, 4, 0, distribution=random.gammavariate, alpha = 5, beta = x)\n",
    "        distances[x].append(path_finder.dijkstra_path())\n",
    "\n",
    "# Calculate mean\n",
    "mean = {}\n",
    "for beta, values in distances.items():\n",
    "    mean.update({beta: np.mean(values)})\n",
    "\n",
    "# Display results\n",
    "keys = mean.keys()\n",
    "values = mean.values()\n",
    "\n",
    "print(pd.DataFrame(values, columns=['mean']))\n",
    "\n",
    "plt.bar(keys, values)\n",
    "plt.title('Mean over rate parameter')\n",
    "plt.xlabel('Rate parameter')\n",
    "plt.ylabel('Path length')\n"
   ]
  },
  {
   "cell_type": "code",
   "execution_count": 15,
   "metadata": {},
   "outputs": [
    {
     "name": "stdout",
     "output_type": "stream",
     "text": [
      "          mean\n",
      "0     1.804627\n",
      "1     4.072804\n",
      "2     6.737629\n",
      "3     9.148030\n",
      "4    12.085259\n",
      "5    14.884399\n",
      "6    17.465497\n",
      "7    19.846340\n",
      "8    22.880283\n",
      "9    25.935770\n",
      "10   28.320241\n",
      "11   30.825705\n",
      "12   33.947183\n",
      "13   36.560930\n",
      "14   39.489861\n",
      "15   42.196177\n",
      "16   45.893280\n",
      "17   47.873606\n",
      "18   50.951610\n",
      "19   53.695427\n",
      "20   57.021450\n",
      "21   59.118161\n",
      "22   62.678857\n",
      "23   64.896962\n",
      "24   67.806704\n",
      "25   70.463841\n",
      "26   72.704691\n",
      "27   75.815334\n",
      "28   79.162984\n",
      "29   82.513120\n",
      "30   85.088920\n",
      "31   88.274163\n",
      "32   91.190159\n",
      "33   93.016193\n",
      "34   96.166051\n",
      "35  100.135496\n",
      "36  101.759274\n",
      "37  105.729768\n",
      "38  109.189017\n",
      "39  110.879908\n",
      "40  114.347273\n",
      "41  116.562853\n",
      "42  120.618013\n",
      "43  121.676529\n",
      "44  125.497625\n",
      "45  128.009390\n",
      "46  132.072995\n",
      "47  135.206219\n",
      "48  136.201492\n"
     ]
    },
    {
     "data": {
      "text/plain": [
       "Text(0, 0.5, 'Path length')"
      ]
     },
     "execution_count": 15,
     "metadata": {},
     "output_type": "execute_result"
    },
    {
     "data": {
      "image/png": "[encoded data removed]",
      "text/plain": [
       "<Figure size 432x288 with 1 Axes>"
      ]
     },
     "metadata": {
      "needs_background": "light"
     },
     "output_type": "display_data"
    }
   ],
   "source": [
    "import random\n",
    "from collections import  defaultdict\n",
    "\n",
    "import numpy as np\n",
    "import matplotlib.pyplot as plt\n",
    "import pandas as pd\n",
    "\n",
    "from dijkstra_algorithm.src.path_finder import PathFinder\n",
    "\n",
    "# Run dijkstra over different paramters and collect data\n",
    "distances = defaultdict(list)\n",
    "for x in range(1, 50):\n",
    "    for _ in range(1, 100):\n",
    "        path_finder = PathFinder(4, 4, 0, distribution=random.gammavariate, alpha = x, beta = 0.5)\n",
    "        distances[x].append(path_finder.dijkstra_path())\n",
    "\n",
    "# Calculate mean\n",
    "mean = {}\n",
    "for beta, values in distances.items():\n",
    "    mean.update({beta: np.mean(values)})\n",
    "\n",
    "# Display results\n",
    "keys = mean.keys()\n",
    "values = mean.values()\n",
    "\n",
    "print(pd.DataFrame(values, columns=['mean']))\n",
    "\n",
    "plt.bar(keys, values)\n",
    "plt.title('Mean over shape')\n",
    "plt.xlabel('Shape')\n",
    "plt.ylabel('Path length')\n"
   ]
  }
 ],
 "metadata": {
  "interpreter": {
   "hash": "31f2aee4e71d21fbe5cf8b01ff0e069b9275f58929596ceb00d14d90e3e16cd6"
  },
  "kernelspec": {
   "display_name": "Python 3.6.9 64-bit",
   "language": "python",
   "name": "python3"
  },
  "language_info": {
   "codemirror_mode": {
    "name": "ipython",
    "version": 3
   },
   "file_extension": ".py",
   "mimetype": "text/x-python",
   "name": "python",
   "nbconvert_exporter": "python",
   "pygments_lexer": "ipython3",
   "version": "3.6.9"
  },
  "orig_nbformat": 4
 },
 "nbformat": 4,
 "nbformat_minor": 2
}
