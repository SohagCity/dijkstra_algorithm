{
 "cells": [
  {
   "cell_type": "markdown",
   "metadata": {},
   "source": [
    "# Structure\n",
    "\n",
    "The terminology I will be using is:\n",
    "\n",
    "- Node for a cell in the gird\n",
    "- The weight/distance for the time spent in a cell\n",
    "- Neighbor for cells that are up, down, left, right of the cell we are referring to. \n",
    "\n",
    "\n",
    "I decided to split the logic into 2 main classes: \n",
    "\n",
    "1. Board, which holds the matrix of numbers and does anything that has to do with getting values from it.\n",
    "2. PathFinding, the logic used to find the path in the board.\n",
    "\n",
    "The main reason I decided to go with this split was that there was a clear distinction between the 2 pieces of logic, but also it facilitates making edits to either, as they mostly don't affect each other.\n",
    "\n",
    "The PathFinding class holds an instance of the board on which it performs the 2 algorithms: naive and Dijkstra.\n",
    "\n",
    "There is also an additional class for the priority queue, which is used for the Dijkstra algorithm.\n",
    "\n",
    "Below there's an abstraction of the class structure and their functionalities, we will explore each one in more depth later on."
   ]
  },
  {
   "cell_type": "code",
   "execution_count": 75,
   "metadata": {},
   "outputs": [],
   "source": [
    "class Board:\n",
    "\n",
    "    def print_board(self, path):\n",
    "        pass\n",
    "\n",
    "    def get_weight(self):\n",
    "        pass\n",
    "\n",
    "    def possible_moves(self, x, y):\n",
    "        pass\n",
    "\n",
    "\n",
    "class PathFinding:\n",
    "    board: Board\n",
    "\n",
    "    def heuristic_path(self):\n",
    "        pass\n",
    "\n",
    "    def dijkstra_path(self):\n",
    "        pass\n"
   ]
  },
  {
   "cell_type": "markdown",
   "metadata": {},
   "source": [
    "# The Board class\n",
    "\n",
    "## Attributes\n",
    "\n",
    "Let's look into the Board class into more details, we will start by looking at the attributes:"
   ]
  },
  {
   "cell_type": "code",
   "execution_count": 76,
   "metadata": {},
   "outputs": [],
   "source": [
    "from typing import List\n",
    "\n",
    "\n",
    "class Board:\n",
    "    # The height and width of the board/matrix\n",
    "    height: int\n",
    "    width: int\n",
    "\n",
    "    board: List[List[int]]  # The actual matrix holding the values\n",
    "    moves: list  # A list of functions, which holds the functions to get the possible moves in the board from a given position\n",
    "    game_mode: int = 0  # The selected game mode \n",
    "\n",
    "    # Variables used for printing coloured text\n",
    "    GREEN = '\\033[92m'\n",
    "    ENDC  = '\\033[0m'\n"
   ]
  },
  {
   "cell_type": "markdown",
   "metadata": {},
   "source": [
    "## Constructor\n",
    "\n",
    "The constructor is used to get the initial values for the width, height and game mode of the board.\n",
    "In addition it initializes the moves attribute with the functions to get values (we will look into these functions later on), and it populates the board attribute with random numbers.\n",
    "\n",
    "We can pass in different types of distribution functions with their corresponding arguments (see the random standard library for more information).\n",
    "\n",
    "Let's look at the output of the populated board"
   ]
  },
  {
   "cell_type": "code",
   "execution_count": 2,
   "metadata": {},
   "outputs": [
    {
     "name": "stdout",
     "output_type": "stream",
     "text": [
      "[[0, 8, 8, 0], [7, 2, 3, 5], [5, 7, 9, 7], [6, 6, 4, 2]]\n",
      "[[6, 4, 2, 2], [4, 5, 3, 4], [5, 1, 9, 1], [2, 9, 6, 8]]\n"
     ]
    }
   ],
   "source": [
    "import random\n",
    "from typing import List\n",
    "\n",
    "class Board:\n",
    "\n",
    "    board: List[List[int]]\n",
    "\n",
    "    def __init__(\n",
    "        self,\n",
    "        height: int,\n",
    "        width: int,\n",
    "        game_mode: int = 1,\n",
    "        distribution = random.randint,\n",
    "        **kwargs\n",
    "    ) -> None:\n",
    "        self.height = height\n",
    "        self.width = width\n",
    "        self.game_mode = game_mode\n",
    "        self.moves = [\n",
    "            self.move_up, \n",
    "            self.move_down, \n",
    "            self.move_left, \n",
    "            self.move_right\n",
    "        ]\n",
    "        self.board = []\n",
    "        for _ in range(height):\n",
    "            self.board.append(\n",
    "                [distribution(**kwargs) for _ in range(width)]\n",
    "            )\n",
    "\n",
    "    def move_up(self):\n",
    "        pass\n",
    "\n",
    "    def move_down(self):\n",
    "        pass\n",
    "\n",
    "    def move_left(self):\n",
    "        pass\n",
    "\n",
    "    def move_right(self):\n",
    "        pass\n",
    "\n",
    "\n",
    "print(Board(4, 4, a = 0, b = 9).board)\n",
    "print(Board(4, 4, a = 0, b = 9).board)"
   ]
  },
  {
   "cell_type": "markdown",
   "metadata": {},
   "source": [
    "As we can see, the output is a list of size 4 containing a lists of also size 4.\n",
    "Also, when creating a different instance of the board, we can see that the numbers are different from the previous, they are random each time."
   ]
  },
  {
   "cell_type": "markdown",
   "metadata": {},
   "source": [
    "## Move functions\n",
    "\n",
    "As mentioned earlier, these functions are used to get the coordinates of a specific cell, given a current position.\n",
    "\n",
    "For example if we are given the position (0, 0) the function move_down() will return (1, 0).\n",
    "Let's look into the implementation: "
   ]
  },
  {
   "cell_type": "code",
   "execution_count": 78,
   "metadata": {},
   "outputs": [
    {
     "name": "stdout",
     "output_type": "stream",
     "text": [
      "Current position (0, 0)\n",
      "Moving right: (0, 1)\n",
      "Moving left: None\n",
      "Moving up: None\n",
      "Moving down: (1, 0)\n"
     ]
    }
   ],
   "source": [
    "class Board:\n",
    "\n",
    "    width = 4\n",
    "    height = 4\n",
    "\n",
    "    def is_within_limits(self, x, y):\n",
    "        \"\"\"\n",
    "        Check if the given coordinates are within the board's size.\n",
    "        \"\"\"\n",
    "        if x < self.width and x >= 0 and y < self.height and y >= 0 :\n",
    "            return x, y\n",
    "        \n",
    "        else:\n",
    "            return None\n",
    "\n",
    "    def move_up(self, x: int, y: int):\n",
    "        return self.is_within_limits(x - 1, y)\n",
    "\n",
    "    def move_down(self, x: int, y: int):\n",
    "        return self.is_within_limits(x + 1, y)\n",
    "    \n",
    "    def move_right(self, x: int, y: int):\n",
    "        return self.is_within_limits(x, y + 1)\n",
    "    \n",
    "    def move_left(self, x: int, y: int):\n",
    "        return self.is_within_limits(x, y - 1)\n",
    "\n",
    "\n",
    "board = Board()\n",
    "print('Current position (0, 0)')\n",
    "print('Moving right: ' + str(board.move_right(0, 0)))\n",
    "print('Moving left: ' + str(board.move_left(0, 0)))\n",
    "print('Moving up: ' + str(board.move_up(0, 0)))\n",
    "print('Moving down: ' + str(board.move_down(0, 0)))"
   ]
  },
  {
   "cell_type": "markdown",
   "metadata": {},
   "source": [
    "With the addition of the method \"is_within_limits\" we can get the position of the different moves and know which ones are within the board's size. In the example above we can see that moving left and up returned None, that's because it would be impossible to move up or left from position (0, 0) as there isn't nothing above or left of the board.\n",
    "\n",
    "These functions will save us time when we will need to gather all the possible moves from a given position. \n",
    "To gather all of these results, we can create a new method \"possible_moves\".\n",
    "\n",
    "Using the attribute moves, which was initialized in the constructor, we can loop through those methods and gather the results."
   ]
  },
  {
   "cell_type": "code",
   "execution_count": 80,
   "metadata": {},
   "outputs": [
    {
     "name": "stdout",
     "output_type": "stream",
     "text": [
      "[(1, 0), (0, 1)]\n"
     ]
    }
   ],
   "source": [
    "# (Inherits itself to make use of the above functions, allowed in Jupyter notebook)\n",
    "class Board(Board):\n",
    "\n",
    "    def __init__(self):\n",
    "        self.moves = [\n",
    "                self.move_up, \n",
    "                self.move_down, \n",
    "                self.move_left, \n",
    "                self.move_right\n",
    "            ]\n",
    "\n",
    "    def possible_moves(self, x, y) -> list:\n",
    "        return [move(x, y) for move in self.moves if move(x, y) != None]\n",
    "\n",
    "print(Board().possible_moves(0, 0))"
   ]
  },
  {
   "cell_type": "markdown",
   "metadata": {},
   "source": [
    "As we can see with a single method call we are able to get all a list of the possible moves from a given coordinate."
   ]
  },
  {
   "cell_type": "markdown",
   "metadata": {},
   "source": [
    "## Get weight\n",
    "\n",
    "This method is used to get the weight of the move, based on the given game mode."
   ]
  },
  {
   "cell_type": "code",
   "execution_count": null,
   "metadata": {},
   "outputs": [
    {
     "name": "stdout",
     "output_type": "stream",
     "text": [
      "[[8, 1, 4, 5], [4, 2, 1, 2], [4, 7, 2, 0], [1, 9, 8, 6]]\n",
      "Game mode 1\n",
      "Weight to move to (1,0) from (0,0): 4\n",
      "Weight to move to (0,1) from (0,0): 7\n",
      "\n",
      "Game mode 0\n",
      "Weight to move to (1,0) from (0,0): 4\n",
      "Weight to move to (0,1) from (0,0): 1\n"
     ]
    }
   ],
   "source": [
    "class Board(Board):\n",
    "\n",
    "    def get_weight(self, starting_x, starting_y, x, y):\n",
    "        \"\"\"\n",
    "        Get the weight of a node based on the selected game mode.\n",
    "        \"\"\"\n",
    "        if self.game_mode == 0:\n",
    "            return self.board[x][y]\n",
    "        \n",
    "        else:\n",
    "            return abs(self.board[x][y] - self.board[starting_x][starting_y])\n",
    "\n",
    "board = Board(4, 4)\n",
    "print(board.board)\n",
    "print('Game mode 1')\n",
    "print('Weight to move to (1,0) from (0,0): ' + str(board.get_weight(0, 0, 1, 0)))\n",
    "print('Weight to move to (0,1) from (0,0): ' + str(board.get_weight(0, 0, 0, 1)))\n",
    "print()\n",
    "\n",
    "board.game_mode = 0\n",
    "print('Game mode 0')\n",
    "print('Weight to move to (1,0) from (0,0): ' + str(board.get_weight(0, 0, 1, 0)))\n",
    "print('Weight to move to (0,1) from (0,0): ' + str(board.get_weight(0, 0, 0, 1)))\n"
   ]
  },
  {
   "cell_type": "markdown",
   "metadata": {},
   "source": [
    "## Printing\n",
    "\n",
    "Lastly, lets look into the printing method. This is mostly straight forward, we look through all matrix (twice, once for the rows and another time for the values) and print the results. An optional argument \"path\" can be passed, which will highlight elements in the positions specified."
   ]
  },
  {
   "cell_type": "code",
   "execution_count": null,
   "metadata": {},
   "outputs": [
    {
     "name": "stdout",
     "output_type": "stream",
     "text": [
      "Board without a path:\n",
      " 3\u001b[0m  1\u001b[0m  3\u001b[0m  2\u001b[0m \n",
      " 2\u001b[0m  0\u001b[0m  7\u001b[0m  7\u001b[0m \n",
      " 8\u001b[0m  5\u001b[0m  5\u001b[0m  2\u001b[0m \n",
      " 4\u001b[0m  5\u001b[0m  2\u001b[0m  0\u001b[0m \n",
      "\n",
      "Let's look at the board with a given path:\n",
      "\u001b[92m 3\u001b[0m  1\u001b[0m  3\u001b[0m  2\u001b[0m \n",
      "\u001b[92m 2\u001b[0m  0\u001b[0m  7\u001b[0m  7\u001b[0m \n",
      "\u001b[92m 8\u001b[0m \u001b[92m 5\u001b[0m \u001b[92m 5\u001b[0m \u001b[92m 2\u001b[0m \n",
      " 4\u001b[0m  5\u001b[0m  2\u001b[0m \u001b[92m 0\u001b[0m \n"
     ]
    }
   ],
   "source": [
    "from typing import List\n",
    "\n",
    "\n",
    "class Board:\n",
    "\n",
    "    board: List[List[int]]\n",
    "    GREEN = '\\033[92m'\n",
    "    ENDC  = '\\033[0m'\n",
    "\n",
    "    def __init__(self, height: int, width: int) -> None:\n",
    "        self.height = height\n",
    "        self.width = width\n",
    "        self.board = []\n",
    "        for _ in range(height):\n",
    "            self.board.append(\n",
    "                [random.randint(0, 9) for _ in range(width)]\n",
    "            )\n",
    "\n",
    "    def print_board(self, path: List[tuple] = []):\n",
    "        \"\"\"\n",
    "        Print the board highlighting the path given.\n",
    "        \"\"\"\n",
    "        # TODO: make space depend on the number of digits\n",
    "        for x, row in enumerate(self.board):\n",
    "            for y, value in enumerate(row):\n",
    "                if (x, y) in path:\n",
    "                    color = self.GREEN\n",
    "                \n",
    "                else:\n",
    "                    color = ''\n",
    "\n",
    "                print(\"{}%{}d\".format(color, 2) % value + self.ENDC, end=\" \")\n",
    "\n",
    "            print()\n",
    "\n",
    "print('Board without a path:')\n",
    "board = Board(4, 4)\n",
    "board.print_board()\n",
    "print()\n",
    "\n",
    "# Now lets give it a path\n",
    "path = [(0,0), (1, 0), (2, 0), (2, 1), (2, 2), (2, 3), (3, 3)]\n",
    "print('Let\\'s look at the board with a given path:')\n",
    "board.print_board(path)\n"
   ]
  },
  {
   "cell_type": "markdown",
   "metadata": {},
   "source": [
    "# Priority queue\n",
    "\n",
    "This is a very simple class, and it is used to store values and a \"rank\". When popping the queue, the item returned will be the element with the highest rank (1 being the maximum).\n",
    "\n",
    "## Put and empty method\n",
    "\n",
    "The put methods simply appends the given value and the rank as a tuple in the list.\n",
    "The empty method returns a boolean value representing whether or not the queue is empty."
   ]
  },
  {
   "cell_type": "code",
   "execution_count": null,
   "metadata": {},
   "outputs": [
    {
     "name": "stdout",
     "output_type": "stream",
     "text": [
      "The queue is empty at the beginning: True\n",
      "The queue is not empty after adding some items: False\n",
      "The queue contains: [(3, 1), (2, 5), (5, 2)]\n"
     ]
    }
   ],
   "source": [
    "from typing import List, Tuple, Any\n",
    "\n",
    "\n",
    "class PriorityQueue:\n",
    "    queue: List[tuple] = []\n",
    "\n",
    "    def empty(self) -> bool:\n",
    "        return len(self.queue) == 0\n",
    "\n",
    "    def put(self, element: Tuple[int, Any]):\n",
    "        self.queue.append(element)\n",
    "\n",
    "\n",
    "queue = PriorityQueue()\n",
    "\n",
    "print('The queue is empty at the beginning: ' + str(queue.empty()))\n",
    "\n",
    "# Lets add some items\n",
    "queue.put((3, 1))\n",
    "queue.put((2, 5))\n",
    "queue.put((5, 2))\n",
    "print('The queue is not empty after adding some items: ' + str(queue.empty()))\n",
    "\n",
    "print('The queue contains: ' + str(queue.queue))"
   ]
  },
  {
   "cell_type": "markdown",
   "metadata": {},
   "source": [
    "## Get method\n",
    "\n",
    "Things are a bit more interesting here. As we can see from the output above, the items are sorted in anyway.\n",
    "Within this method we will do a lookup too find the highest ranking element and pop that off the list."
   ]
  },
  {
   "cell_type": "code",
   "execution_count": null,
   "metadata": {},
   "outputs": [
    {
     "name": "stdout",
     "output_type": "stream",
     "text": [
      "Initial list: [(3, 1), (2, 5), (5, 2)]\n",
      "Popping: (2, 5)\n",
      "Popping: (3, 1)\n",
      "The elements remaining are: [(5, 2)]\n",
      "Popping: (5, 2)\n",
      "No elements in the list\n"
     ]
    }
   ],
   "source": [
    "from typing import List, Tuple, Any\n",
    "\n",
    "\n",
    "class PriorityQueue:\n",
    "\n",
    "    queue: List[tuple] = []\n",
    "\n",
    "    def empty(self) -> bool:\n",
    "        return len(self.queue) == 0\n",
    "\n",
    "    def put(self, element: Tuple[int, Any]):\n",
    "        self.queue.append(element)\n",
    "\n",
    "    def get(self) -> tuple:\n",
    "        if self.empty():\n",
    "            raise IndexError('No elements in the list')\n",
    "        \n",
    "        min = 0\n",
    "        for index in range(len(self.queue)):\n",
    "            if self.queue[index][0] < self.queue[min][0]:\n",
    "                min = index\n",
    "\n",
    "        return self.queue.pop(min)\n",
    "\n",
    "\n",
    "queue = PriorityQueue()\n",
    "\n",
    "# Lets add the same items\n",
    "queue.put((3, 1))\n",
    "queue.put((2, 5))\n",
    "queue.put((5, 2))\n",
    "\n",
    "print('Initial list: ' + str(queue.queue))\n",
    "print('Popping: ' + str(queue.get()))\n",
    "print('Popping: ' + str(queue.get()))\n",
    "print('The elements remaining are: ' + str(queue.queue))\n",
    "\n",
    "print('Popping: ' + str(queue.get()))\n",
    "\n",
    "try:\n",
    "    queue.get()\n",
    "\n",
    "except IndexError as error:\n",
    "    print(error)"
   ]
  },
  {
   "cell_type": "markdown",
   "metadata": {},
   "source": [
    "# PathFinder\n",
    "\n",
    "## Naive approach\n",
    "\n",
    "The algorithm looks at the neighbors and makes a choice based on which path to take based on the weight/distance.\n"
   ]
  },
  {
   "cell_type": "code",
   "execution_count": 81,
   "metadata": {},
   "outputs": [],
   "source": [
    "from typing import List\n",
    "\n",
    "from dijkstra_algorithm.src.board import Board\n",
    "\n",
    "\n",
    "class PathFinder:\n",
    "\n",
    "    board: Board\n",
    "    path: List[tuple] = [(0, 0)]\n",
    "\n",
    "    def __init__(\n",
    "        self,\n",
    "        height: int,\n",
    "        width: int,\n",
    "        game_mode: int = 1,\n",
    "        distribution = random.randint,\n",
    "        **kwargs\n",
    "    ) -> None:\n",
    "        self.board = Board(height, width, game_mode, distribution, **kwargs)\n",
    "\n",
    "    def print_board(self):\n",
    "        self.board.print_board(self.path)\n",
    "\n",
    "    def heuristic_path(self):\n",
    "        \"\"\"\n",
    "        This is my approach to finding the shortest path.\n",
    "        The logic can be summed up as follows:\n",
    "        Check the neighbor nodes and compare their weight.\n",
    "        Take the node with the smallest weight.\n",
    "        If there aren't any possible moves we go back one and try again.\n",
    "        Whilst doing this we keep a list of traversed nodes and the path we have taken so far.\n",
    "        The process is repeated until we get to the final Node.\n",
    "        \"\"\"\n",
    "        start_position = (0, 0)\n",
    "        current_position = start_position\n",
    "        final_node = (self.board.width - 1, self.board.height - 1)\n",
    "        traversed_nodes = [current_position]\n",
    "        path_weight = 0\n",
    "\n",
    "        # Repeat this process until we get to the final node\n",
    "        while current_position != final_node:\n",
    "            smallest_weight = None\n",
    "            move = None\n",
    "            possible_moves = self.board.possible_moves(\n",
    "                current_position[0], current_position[1]\n",
    "            )\n",
    "\n",
    "            # Go through all the possible moves from the current position.\n",
    "            for x, y in possible_moves:\n",
    "                weight = self.board.get_weight(*current_position, x, y)\n",
    "                # If this is the final node always take it\n",
    "                if (x, y) == final_node:\n",
    "                    smallest_weight = weight\n",
    "                    move = (x, y)\n",
    "                    break\n",
    "\n",
    "                # If the node has been traversed already ignore it\n",
    "                if (x, y) in traversed_nodes:\n",
    "                    continue\n",
    "\n",
    "                # If this is the first node being traversed then, it is the best possible node for the moment\n",
    "                # Compare the result of the remaining nodes with this result and get save the one with less weight.\n",
    "                if smallest_weight == None:\n",
    "                    smallest_weight = weight\n",
    "                    move = (x, y)\n",
    "\n",
    "                elif smallest_weight > weight:\n",
    "                    smallest_weight = weight\n",
    "                    move = (x, y)\n",
    "\n",
    "            # If there were no possible moves (i.e. weight hasn't been touched)\n",
    "            # Go back to the previous node resetting all the necessary variables to the previous state\n",
    "            if smallest_weight == None or move == None:\n",
    "                popped_node = self.path.pop()\n",
    "                traversed_nodes.append(popped_node)\n",
    "                path_weight -= self.board.get_weight(*popped_node, *current_position)\n",
    "                current_position = self.path[-1]\n",
    "                continue\n",
    "\n",
    "            traversed_nodes.append(move)\n",
    "            current_position = move\n",
    "            path_weight += smallest_weight\n",
    "        \n",
    "        self.path = [start_position]\n",
    "        self.path = traversed_nodes\n",
    "        return path_weight\n"
   ]
  },
  {
   "cell_type": "markdown",
   "metadata": {},
   "source": [
    "Let's split this up into smaller chunks.\n",
    "\n",
    "The first step is to initialize the variables."
   ]
  },
  {
   "cell_type": "code",
   "execution_count": null,
   "metadata": {},
   "outputs": [],
   "source": [
    "board = Board(4, 4)\n",
    "\n",
    "# Initialize the initial values\n",
    "start_position = (0, 0)\n",
    "current_position = start_position\n",
    "final_node = (board.width - 1, board.height - 1)  # Our goal\n",
    "traversed_nodes = [current_position]  # List of all the visited nodes\n",
    "path_weight = 0\n",
    "\n",
    "path = [start_position]  # This is a class attribute, keeps track of the chosen path so far\n"
   ]
  },
  {
   "cell_type": "markdown",
   "metadata": {},
   "source": [
    "Now that we got these values set, we will loop the following util we reach our point.\n",
    "\n",
    "For each loop, there's a set of variables that need to set:"
   ]
  },
  {
   "cell_type": "code",
   "execution_count": null,
   "metadata": {},
   "outputs": [
    {
     "name": "stdout",
     "output_type": "stream",
     "text": [
      "Possible moves: [(1, 0), (0, 1)]\n"
     ]
    }
   ],
   "source": [
    "board = Board(4, 4)\n",
    "\n",
    "smallest_weight = None # This keeps track of which is the smallest weight so far within the neighbors\n",
    "move = None # This keeps track of which move should be made\n",
    "possible_moves = board.possible_moves(\n",
    "    current_position[0], current_position[1]\n",
    ")  # Possible moves from the current node\n",
    "\n",
    "print('Possible moves: ' + str(possible_moves))"
   ]
  },
  {
   "cell_type": "markdown",
   "metadata": {},
   "source": [
    "We then loop through the neighbors making some checks to identify the best candidate."
   ]
  },
  {
   "cell_type": "code",
   "execution_count": null,
   "metadata": {},
   "outputs": [
    {
     "name": "stdout",
     "output_type": "stream",
     "text": [
      "Evaluating move to: (1, 0)\n",
      "Has weight: 1\n",
      "This is the first node being looked at, it's the best move at the moment\n",
      "Evaluating move to: (0, 1)\n",
      "Has weight: 4\n",
      "This move costs more, let's stick with our previous move\n"
     ]
    }
   ],
   "source": [
    "board = Board(4, 4)\n",
    "\n",
    "smallest_weight = None # This keeps track of which is the smallest weight so far within the neighbors\n",
    "move = None # This keeps track of which move should be made\n",
    "possible_moves = board.possible_moves(\n",
    "    current_position[0], current_position[1]\n",
    ")\n",
    "\n",
    "# Go through all the possible moves from the current position.\n",
    "for x, y in possible_moves:\n",
    "    print('Evaluating move to: ' + str((x, y)))\n",
    "    weight = board.get_weight(*current_position, x, y)\n",
    "    print('Has weight: ' + str(weight))\n",
    "\n",
    "    # If this is the final node always take it\n",
    "    if (x, y) == final_node:\n",
    "        print('We reached the final node')\n",
    "        smallest_weight = weight\n",
    "        move = (x, y)\n",
    "        break\n",
    "\n",
    "    # If the node has been traversed already ignore it\n",
    "    if (x, y) in traversed_nodes:\n",
    "        print('We gone through this already')\n",
    "        continue\n",
    "\n",
    "    # If this is the first node being traversed then, it is the best possible node for the moment\n",
    "    # Compare the result of the remaining nodes with this result and get save the one with less weight.\n",
    "    if smallest_weight == None:\n",
    "        print('This is the first node being looked at, it\\'s the best move at the moment')\n",
    "        smallest_weight = weight\n",
    "        move = (x, y)\n",
    "\n",
    "    elif smallest_weight > weight:\n",
    "        print('This move costs less, let\\'s use this node instead')\n",
    "        smallest_weight = weight\n",
    "        move = (x, y)\n",
    "    \n",
    "    elif smallest_weight < weight:\n",
    "        print('This move costs more, let\\'s stick with our previous move')\n"
   ]
  },
  {
   "cell_type": "markdown",
   "metadata": {},
   "source": [
    "After we looped through all the neighbors, if the move is still None or the weight is still None, it means that there was no path to take. In which case we go back to our previous move."
   ]
  },
  {
   "cell_type": "code",
   "execution_count": 85,
   "metadata": {},
   "outputs": [
    {
     "name": "stdout",
     "output_type": "stream",
     "text": [
      "Current path: [(0, 0), (1, 0)]\n",
      "No possible moves\n",
      "The current path is: [(0, 0)]\n"
     ]
    }
   ],
   "source": [
    "board = Board(4, 4)\n",
    "\n",
    "path = [(0, 0), (1, 0)]  # an attribute of PathFinder\n",
    "\n",
    "smallest_weight = None # This keeps track of which is the smallest weight so far within the neighbors\n",
    "move = None # This keeps track of which move should be made\n",
    "traversed_nodes = [(1, 1), (2, 0)]\n",
    "possible_moves = board.possible_moves(\n",
    "    current_position[0], current_position[1]\n",
    ")\n",
    "\n",
    "print('Current path: ' + str(path))\n",
    "\n",
    "if smallest_weight == None or move == None:\n",
    "    print('No possible moves')\n",
    "    popped_node = path.pop()\n",
    "    traversed_nodes.append(popped_node)\n",
    "    path_weight -= board.get_weight(*popped_node, *current_position)\n",
    "    current_position = path[-1]\n",
    "    print('The current path is: ' + str(path))\n"
   ]
  },
  {
   "cell_type": "code",
   "execution_count": 93,
   "metadata": {},
   "outputs": [
    {
     "name": "stdout",
     "output_type": "stream",
     "text": [
      "\u001b[92m 8\u001b[0m  7\u001b[0m  1\u001b[0m  8\u001b[0m \n",
      " 3\u001b[0m  0\u001b[0m  6\u001b[0m  6\u001b[0m \n",
      " 9\u001b[0m  9\u001b[0m  7\u001b[0m  6\u001b[0m \n",
      " 7\u001b[0m  6\u001b[0m  3\u001b[0m  4\u001b[0m \n",
      "Game mode 1\n",
      "Distance: 34\n",
      "\u001b[92m 8\u001b[0m  7\u001b[0m \u001b[92m 1\u001b[0m \u001b[92m 8\u001b[0m \n",
      "\u001b[92m 3\u001b[0m \u001b[92m 0\u001b[0m \u001b[92m 6\u001b[0m \u001b[92m 6\u001b[0m \n",
      " 9\u001b[0m  9\u001b[0m  7\u001b[0m \u001b[92m 6\u001b[0m \n",
      " 7\u001b[0m  6\u001b[0m  3\u001b[0m \u001b[92m 4\u001b[0m \n",
      "Game mode 2\n",
      "Distance: 14\n",
      "\u001b[92m 8\u001b[0m \u001b[92m 7\u001b[0m \u001b[92m 1\u001b[0m  8\u001b[0m \n",
      " 3\u001b[0m  0\u001b[0m \u001b[92m 6\u001b[0m \u001b[92m 6\u001b[0m \n",
      " 9\u001b[0m  9\u001b[0m  7\u001b[0m \u001b[92m 6\u001b[0m \n",
      " 7\u001b[0m  6\u001b[0m  3\u001b[0m \u001b[92m 4\u001b[0m \n"
     ]
    }
   ],
   "source": [
    "from dijkstra_algorithm.src.path_finder import PathFinder\n",
    "\n",
    "\n",
    "path_finder = PathFinder(4, 4, 0)\n",
    "path_finder.print_board()\n",
    "\n",
    "print('Game mode 1')\n",
    "print('Distance: ' + str(path_finder.heuristic_path()))\n",
    "path_finder.print_board()\n",
    "\n",
    "print('Game mode 2')\n",
    "path_finder.board.game_mode = 1\n",
    "print('Distance: ' + str(path_finder.heuristic_path()))\n",
    "path_finder.print_board()\n"
   ]
  },
  {
   "cell_type": "markdown",
   "metadata": {},
   "source": [
    "# Dijkstra\n",
    "\n",
    "I used the most basic implementation of the algorithm I could come up with. There isn't anything fancy to make it more efficient.\n",
    "The comments explain all the steps taken."
   ]
  },
  {
   "cell_type": "code",
   "execution_count": null,
   "metadata": {},
   "outputs": [],
   "source": [
    "from typing import List\n",
    "\n",
    "from board import Board\n",
    "from priority_queue import PriorityQueue\n",
    "\n",
    "\n",
    "class PathFinder:\n",
    "\n",
    "    board: Board\n",
    "    path: List[tuple] = [(0, 0)]\n",
    "\n",
    "    def __init__(self, height: int, width: int, game_mode: int = 1) -> None:\n",
    "        self.board = Board(height, width, game_mode)\n",
    "\n",
    "    def dijkstra_path(self):\n",
    "        \"\"\"\n",
    "        Dijkstra's path implementation using a priority queue.\n",
    "        \"\"\"\n",
    "        # For each node we will keep track of the previous node\n",
    "        # This will allow us to rebuild the selected path.\n",
    "        previous = {}\n",
    "        start_position = (0, 0)\n",
    "        # Create a dictionary with all the positions as key and distances as value\n",
    "        # Set all the distances to infinity\n",
    "        distances = {\n",
    "            (x, y): float('inf')\n",
    "            for x, row in enumerate(self.board.board)\n",
    "            for y, value in enumerate(row)\n",
    "        }\n",
    "        # Set starting point's distance to 0\n",
    "        distances[start_position] = 0\n",
    "\n",
    "        priority_queue = PriorityQueue()\n",
    "        priority_queue.put((0, start_position))\n",
    "\n",
    "        while not priority_queue.empty():\n",
    "            current_distance, current_position = priority_queue.get()\n",
    "\n",
    "            # Compare neighbors (i.e. the possible moves from the current node)\n",
    "            for neighbor in self.board.possible_moves(current_position[0], current_position[1]):\n",
    "                distance = self.board.get_weight(*current_position, *neighbor) + current_distance\n",
    "\n",
    "                # If we already have a better path to this node, then ignore current path\n",
    "                if current_distance > distances[current_position]:\n",
    "                    continue\n",
    "\n",
    "                # If this is a better path, update the distances and the priority queue.                        \n",
    "                if distance < distances[neighbor]:\n",
    "                    distances[neighbor] = distance\n",
    "                    priority_queue.put((distance, neighbor))\n",
    "                    previous[neighbor] = current_position\n",
    "\n",
    "        final_node = (self.board.width - 1, self.board.height - 1)\n",
    "        self.path = [start_position]\n",
    "        self.shortest(final_node, previous)\n",
    "        return distances[final_node]\n",
    "\n",
    "    def shortest(self, node, previous):\n",
    "        \"\"\"\n",
    "        Rebuild the path using the dictionary created in self.dijkstra_path\n",
    "        \"\"\"\n",
    "        if previous.get(node):\n",
    "            self.path.append(node)\n",
    "            self.shortest(previous[node], previous)\n"
   ]
  },
  {
   "cell_type": "markdown",
   "metadata": {},
   "source": [
    "There isn't much to say about this, as it's just the implementation of the algorithm. I would only add that the algorithm gets the shortest distance between the 2 points, I then use a dictionary to keep track of the path. Let's look at some results:"
   ]
  },
  {
   "cell_type": "code",
   "execution_count": 94,
   "metadata": {},
   "outputs": [
    {
     "name": "stdout",
     "output_type": "stream",
     "text": [
      "\u001b[92m 7\u001b[0m  1\u001b[0m  4\u001b[0m  0\u001b[0m \n",
      " 6\u001b[0m  9\u001b[0m  4\u001b[0m  7\u001b[0m \n",
      " 4\u001b[0m  2\u001b[0m  2\u001b[0m  7\u001b[0m \n",
      " 8\u001b[0m  7\u001b[0m  5\u001b[0m  8\u001b[0m \n",
      "Game mode 1\n",
      "Distance: 24\n",
      "\u001b[92m 7\u001b[0m \u001b[92m 1\u001b[0m \u001b[92m 4\u001b[0m  0\u001b[0m \n",
      " 6\u001b[0m  9\u001b[0m \u001b[92m 4\u001b[0m  7\u001b[0m \n",
      " 4\u001b[0m  2\u001b[0m \u001b[92m 2\u001b[0m  7\u001b[0m \n",
      " 8\u001b[0m  7\u001b[0m \u001b[92m 5\u001b[0m \u001b[92m 8\u001b[0m \n",
      "Game mode 2\n",
      "Distance: 11\n",
      "\u001b[92m 7\u001b[0m  1\u001b[0m  4\u001b[0m  0\u001b[0m \n",
      "\u001b[92m 6\u001b[0m  9\u001b[0m  4\u001b[0m  7\u001b[0m \n",
      "\u001b[92m 4\u001b[0m \u001b[92m 2\u001b[0m \u001b[92m 2\u001b[0m  7\u001b[0m \n",
      " 8\u001b[0m  7\u001b[0m \u001b[92m 5\u001b[0m \u001b[92m 8\u001b[0m \n"
     ]
    }
   ],
   "source": [
    "from dijkstra_algorithm.src.path_finder import PathFinder\n",
    "\n",
    "\n",
    "path_finder = PathFinder(4, 4, 0)\n",
    "path_finder.print_board()\n",
    "\n",
    "print('Game mode 1')\n",
    "print('Distance: ' + str(path_finder.dijkstra_path()))\n",
    "path_finder.print_board()\n",
    "\n",
    "print('Game mode 2')\n",
    "path_finder.board.game_mode = 1\n",
    "print('Distance: ' + str(path_finder.dijkstra_path()))\n",
    "path_finder.print_board()"
   ]
  }
 ],
 "metadata": {
  "interpreter": {
   "hash": "30295c5bec572e859485b1ffa5e89b8b3e2022ef6e3e739c1ac40f143a557caf"
  },
  "kernelspec": {
   "display_name": "",
   "name": "python3"
  },
  "language_info": {
   "codemirror_mode": {
    "name": "ipython",
    "version": 3
   },
   "file_extension": ".py",
   "mimetype": "text/x-python",
   "name": "python",
   "nbconvert_exporter": "python",
   "pygments_lexer": "ipython3",
   "version": "3.6.9"
  },
  "orig_nbformat": 4
 },
 "nbformat": 4,
 "nbformat_minor": 2
}
